{
 "cells": [
  {
   "cell_type": "code",
   "execution_count": 1,
   "metadata": {},
   "outputs": [],
   "source": [
    "from ultralytics import YOLO"
   ]
  },
  {
   "cell_type": "code",
   "execution_count": 2,
   "metadata": {},
   "outputs": [],
   "source": [
    "model = YOLO(\"Steering_wheel.pt\")"
   ]
  },
  {
   "cell_type": "code",
   "execution_count": 3,
   "metadata": {},
   "outputs": [
    {
     "name": "stderr",
     "output_type": "stream",
     "text": [
      "\n",
      "image 1/1 C:\\Users\\james\\Desktop\\Diss_Code_for_AUC\\auc_distracted_driver_dataset_v2\\v2_cam1_cam2_split_by_driver\\Camera_1\\train\\c9\\1039.jpg: 384x640 1 Steering Wheel, 93.1ms\n",
      "Speed: 1.0ms preprocess, 93.1ms inference, 1.5ms postprocess per image at shape (1, 3, 384, 640)\n",
      "Results saved to \u001b[1mruns\\detect\\predict3\u001b[0m\n",
      "1 label saved to runs\\detect\\predict3\\labels\n"
     ]
    }
   ],
   "source": [
    "\n",
    "out = model(r\"C:/Users/james/Desktop/Diss_Code_for_AUC/auc_distracted_driver_dataset_v2/v2_cam1_cam2_split_by_driver/Camera_1/train/c9/1039.jpg\", conf=0.5, save= True, save_txt=True)"
   ]
  },
  {
   "cell_type": "code",
   "execution_count": 4,
   "metadata": {},
   "outputs": [
    {
     "name": "stderr",
     "output_type": "stream",
     "text": [
      "WARNING  'Boxes.boxes' is deprecated. Use 'Boxes.data' instead.\n"
     ]
    },
    {
     "data": {
      "text/plain": [
       "ultralytics.yolo.engine.results.Boxes object with attributes:\n",
       "\n",
       "boxes: tensor([[1.2496e+03, 2.0656e+02, 1.6349e+03, 7.1634e+02, 7.7032e-01, 0.0000e+00]])\n",
       "cls: tensor([0.])\n",
       "conf: tensor([0.7703])\n",
       "data: tensor([[1.2496e+03, 2.0656e+02, 1.6349e+03, 7.1634e+02, 7.7032e-01, 0.0000e+00]])\n",
       "id: None\n",
       "is_track: False\n",
       "orig_shape: (1080, 1920)\n",
       "shape: torch.Size([1, 6])\n",
       "xywh: tensor([[1442.2607,  461.4543,  385.3063,  509.7803]])\n",
       "xywhn: tensor([[0.7512, 0.4273, 0.2007, 0.4720]])\n",
       "xyxy: tensor([[1249.6077,  206.5642, 1634.9139,  716.3445]])\n",
       "xyxyn: tensor([[0.6508, 0.1913, 0.8515, 0.6633]])"
      ]
     },
     "execution_count": 4,
     "metadata": {},
     "output_type": "execute_result"
    }
   ],
   "source": [
    "out[0].boxes"
   ]
  },
  {
   "cell_type": "code",
   "execution_count": 5,
   "metadata": {},
   "outputs": [
    {
     "data": {
      "text/plain": [
       "tensor([[1442.2607,  461.4543,  385.3063,  509.7803]])"
      ]
     },
     "execution_count": 5,
     "metadata": {},
     "output_type": "execute_result"
    }
   ],
   "source": [
    "out[0].boxes.xywh"
   ]
  },
  {
   "cell_type": "code",
   "execution_count": 6,
   "metadata": {},
   "outputs": [
    {
     "data": {
      "text/plain": [
       "tensor([[1249.6077,  206.5642, 1634.9139,  716.3445]])"
      ]
     },
     "execution_count": 6,
     "metadata": {},
     "output_type": "execute_result"
    }
   ],
   "source": [
    "out[0].boxes.xyxy"
   ]
  }
 ],
 "metadata": {
  "kernelspec": {
   "display_name": "Python 3",
   "language": "python",
   "name": "python3"
  },
  "language_info": {
   "codemirror_mode": {
    "name": "ipython",
    "version": 3
   },
   "file_extension": ".py",
   "mimetype": "text/x-python",
   "name": "python",
   "nbconvert_exporter": "python",
   "pygments_lexer": "ipython3",
   "version": "3.10.11"
  },
  "orig_nbformat": 4
 },
 "nbformat": 4,
 "nbformat_minor": 2
}
